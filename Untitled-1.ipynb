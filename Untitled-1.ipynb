{
 "cells": [
  {
   "cell_type": "code",
   "execution_count": 36,
   "metadata": {},
   "outputs": [],
   "source": [
    "from easyAI import TwoPlayerGame, Human_Player, AI_Player, Negamax\n",
    "import random"
   ]
  },
  {
   "cell_type": "code",
   "execution_count": 44,
   "metadata": {},
   "outputs": [],
   "source": [
    "WORD = \"oliwka\""
   ]
  },
  {
   "cell_type": "code",
   "execution_count": 51,
   "metadata": {},
   "outputs": [],
   "source": [
    "def shuffle(string):\n",
    "  l = list(string)\n",
    "  random.shuffle(l)\n",
    "  return ''.join(l)\n",
    "\n",
    "def swap(string, i1, i2):\n",
    "  strList = list(string)\n",
    "  buff = strList[i1]\n",
    "  strList[i1] = strList[i2]\n",
    "  strList[i2] = buff\n",
    "  return ''.join(strList) \n",
    "\n",
    "def move_letter(string, pos, dir):\n",
    "  targetPos = pos + (1 if dir == 'r' else -1)\n",
    "  if(pos<0 or pos>=len(string) or targetPos<0 or targetPos>=len(string)):\n",
    "    return string\n",
    "  new_string = swap(string, pos, targetPos)\n",
    "  return new_string\n",
    "\n",
    "def matching_chars_count(string1, string2):\n",
    "  count = 0\n",
    "  for i in range(len(string1)):\n",
    "    if string1[i] == string2[i]:\n",
    "      count += 1\n",
    "  return count"
   ]
  },
  {
   "cell_type": "code",
   "execution_count": 53,
   "metadata": {},
   "outputs": [
    {
     "name": "stdout",
     "output_type": "stream",
     "text": [
      "012345\n",
      "iaklow\n",
      "oliwka\n",
      "wrong letters: 6\n"
     ]
    },
    {
     "ename": "KeyboardInterrupt",
     "evalue": "Interrupted by user",
     "output_type": "error",
     "traceback": [
      "\u001b[0;31m---------------------------------------------------------------------------\u001b[0m",
      "\u001b[0;31mKeyboardInterrupt\u001b[0m                         Traceback (most recent call last)",
      "Cell \u001b[0;32mIn [53], line 36\u001b[0m\n\u001b[1;32m     34\u001b[0m ai \u001b[38;5;241m=\u001b[39m Negamax(\u001b[38;5;241m4\u001b[39m) \u001b[38;5;66;03m# The AI will think 13 moves in advance\u001b[39;00m\n\u001b[1;32m     35\u001b[0m game \u001b[38;5;241m=\u001b[39m Reorganize( [ Human_Player(), AI_Player(ai) ] )\n\u001b[0;32m---> 36\u001b[0m history \u001b[38;5;241m=\u001b[39m \u001b[43mgame\u001b[49m\u001b[38;5;241;43m.\u001b[39;49m\u001b[43mplay\u001b[49m\u001b[43m(\u001b[49m\u001b[43m)\u001b[49m\n",
      "File \u001b[0;32m~/.pyenv/versions/3.10.2/lib/python3.10/site-packages/easyAI/TwoPlayerGame.py:110\u001b[0m, in \u001b[0;36mTwoPlayerGame.play\u001b[0;34m(self, nmoves, verbose)\u001b[0m\n\u001b[1;32m    107\u001b[0m \u001b[39mif\u001b[39;00m \u001b[39mself\u001b[39m\u001b[39m.\u001b[39mis_over():\n\u001b[1;32m    108\u001b[0m     \u001b[39mbreak\u001b[39;00m\n\u001b[0;32m--> 110\u001b[0m move \u001b[39m=\u001b[39m \u001b[39mself\u001b[39;49m\u001b[39m.\u001b[39;49mplayer\u001b[39m.\u001b[39;49mask_move(\u001b[39mself\u001b[39;49m)\n\u001b[1;32m    111\u001b[0m history\u001b[39m.\u001b[39mappend((deepcopy(\u001b[39mself\u001b[39m), move))\n\u001b[1;32m    112\u001b[0m \u001b[39mself\u001b[39m\u001b[39m.\u001b[39mmake_move(move)\n",
      "File \u001b[0;32m~/.pyenv/versions/3.10.2/lib/python3.10/site-packages/easyAI/Player.py:27\u001b[0m, in \u001b[0;36mHuman_Player.ask_move\u001b[0;34m(self, game)\u001b[0m\n\u001b[1;32m     25\u001b[0m move \u001b[39m=\u001b[39m \u001b[39m\"\u001b[39m\u001b[39mNO_MOVE_DECIDED_YET\u001b[39m\u001b[39m\"\u001b[39m\n\u001b[1;32m     26\u001b[0m \u001b[39mwhile\u001b[39;00m \u001b[39mTrue\u001b[39;00m:\n\u001b[0;32m---> 27\u001b[0m     move \u001b[39m=\u001b[39m \u001b[39minput\u001b[39;49m(\u001b[39m\"\u001b[39;49m\u001b[39m\\n\u001b[39;49;00m\u001b[39mPlayer \u001b[39;49m\u001b[39m%s\u001b[39;49;00m\u001b[39m what do you play ? \u001b[39;49m\u001b[39m\"\u001b[39;49m \u001b[39m%\u001b[39;49m (game\u001b[39m.\u001b[39;49mcurrent_player))\n\u001b[1;32m     28\u001b[0m     \u001b[39mif\u001b[39;00m move \u001b[39m==\u001b[39m \u001b[39m\"\u001b[39m\u001b[39mshow moves\u001b[39m\u001b[39m\"\u001b[39m:\n\u001b[1;32m     29\u001b[0m         \u001b[39mprint\u001b[39m(\n\u001b[1;32m     30\u001b[0m             \u001b[39m\"\u001b[39m\u001b[39mPossible moves:\u001b[39m\u001b[39m\\n\u001b[39;00m\u001b[39m\"\u001b[39m\n\u001b[1;32m     31\u001b[0m             \u001b[39m+\u001b[39m \u001b[39m\"\u001b[39m\u001b[39m\\n\u001b[39;00m\u001b[39m\"\u001b[39m\u001b[39m.\u001b[39mjoin(\n\u001b[0;32m   (...)\u001b[0m\n\u001b[1;32m     34\u001b[0m             \u001b[39m+\u001b[39m \u001b[39m\"\u001b[39m\u001b[39m\\n\u001b[39;00m\u001b[39mType a move or type \u001b[39m\u001b[39m'\u001b[39m\u001b[39mmove #move_number\u001b[39m\u001b[39m'\u001b[39m\u001b[39m to play.\u001b[39m\u001b[39m\"\u001b[39m\n\u001b[1;32m     35\u001b[0m         )\n",
      "File \u001b[0;32m~/.pyenv/versions/3.10.2/lib/python3.10/site-packages/ipykernel/kernelbase.py:1177\u001b[0m, in \u001b[0;36mKernel.raw_input\u001b[0;34m(self, prompt)\u001b[0m\n\u001b[1;32m   1173\u001b[0m \u001b[39mif\u001b[39;00m \u001b[39mnot\u001b[39;00m \u001b[39mself\u001b[39m\u001b[39m.\u001b[39m_allow_stdin:\n\u001b[1;32m   1174\u001b[0m     \u001b[39mraise\u001b[39;00m StdinNotImplementedError(\n\u001b[1;32m   1175\u001b[0m         \u001b[39m\"\u001b[39m\u001b[39mraw_input was called, but this frontend does not support input requests.\u001b[39m\u001b[39m\"\u001b[39m\n\u001b[1;32m   1176\u001b[0m     )\n\u001b[0;32m-> 1177\u001b[0m \u001b[39mreturn\u001b[39;00m \u001b[39mself\u001b[39;49m\u001b[39m.\u001b[39;49m_input_request(\n\u001b[1;32m   1178\u001b[0m     \u001b[39mstr\u001b[39;49m(prompt),\n\u001b[1;32m   1179\u001b[0m     \u001b[39mself\u001b[39;49m\u001b[39m.\u001b[39;49m_parent_ident[\u001b[39m\"\u001b[39;49m\u001b[39mshell\u001b[39;49m\u001b[39m\"\u001b[39;49m],\n\u001b[1;32m   1180\u001b[0m     \u001b[39mself\u001b[39;49m\u001b[39m.\u001b[39;49mget_parent(\u001b[39m\"\u001b[39;49m\u001b[39mshell\u001b[39;49m\u001b[39m\"\u001b[39;49m),\n\u001b[1;32m   1181\u001b[0m     password\u001b[39m=\u001b[39;49m\u001b[39mFalse\u001b[39;49;00m,\n\u001b[1;32m   1182\u001b[0m )\n",
      "File \u001b[0;32m~/.pyenv/versions/3.10.2/lib/python3.10/site-packages/ipykernel/kernelbase.py:1219\u001b[0m, in \u001b[0;36mKernel._input_request\u001b[0;34m(self, prompt, ident, parent, password)\u001b[0m\n\u001b[1;32m   1216\u001b[0m             \u001b[39mbreak\u001b[39;00m\n\u001b[1;32m   1217\u001b[0m \u001b[39mexcept\u001b[39;00m \u001b[39mKeyboardInterrupt\u001b[39;00m:\n\u001b[1;32m   1218\u001b[0m     \u001b[39m# re-raise KeyboardInterrupt, to truncate traceback\u001b[39;00m\n\u001b[0;32m-> 1219\u001b[0m     \u001b[39mraise\u001b[39;00m \u001b[39mKeyboardInterrupt\u001b[39;00m(\u001b[39m\"\u001b[39m\u001b[39mInterrupted by user\u001b[39m\u001b[39m\"\u001b[39m) \u001b[39mfrom\u001b[39;00m \u001b[39mNone\u001b[39m\n\u001b[1;32m   1220\u001b[0m \u001b[39mexcept\u001b[39;00m \u001b[39mException\u001b[39;00m:\n\u001b[1;32m   1221\u001b[0m     \u001b[39mself\u001b[39m\u001b[39m.\u001b[39mlog\u001b[39m.\u001b[39mwarning(\u001b[39m\"\u001b[39m\u001b[39mInvalid Message:\u001b[39m\u001b[39m\"\u001b[39m, exc_info\u001b[39m=\u001b[39m\u001b[39mTrue\u001b[39;00m)\n",
      "\u001b[0;31mKeyboardInterrupt\u001b[0m: Interrupted by user"
     ]
    }
   ],
   "source": [
    "class Reorganize( TwoPlayerGame ):\n",
    "    def __init__(self, players=None):\n",
    "        self.players = players\n",
    "        self.word = shuffle(WORD)\n",
    "        self.current_player = 1 # player 1 starts\n",
    "\n",
    "    def possible_moves(self):\n",
    "      moves = [\"%d%s\"%(i+1, dir) for i in range(len(self.word)-2) for dir in ['l', 'r']]\n",
    "      edge_moves = ['0r', '%dl'%(len(self.word)-1)]\n",
    "      moves.extend(edge_moves)\n",
    "      double_moves = ['%s %s' % (m1, m2) for m1 in moves for m2 in moves]\n",
    "      moves.extend(double_moves)\n",
    "      # print(moves)\n",
    "      return moves\n",
    "    def make_move(self,move): \n",
    "      moves = move.split(' ')\n",
    "      for m in moves:\n",
    "        i, dir = m[:-1], m[-1:]\n",
    "        self.word = move_letter(self.word, int(i), dir)\n",
    "    def win(self): return self.word == WORD # opponent took the last bone ?\n",
    "    def is_over(self): return self.win() # Game stops when someone wins.\n",
    "    def show(self): \n",
    "      for i in range(len(self.word)):\n",
    "        print(i, end='')\n",
    "      print (\"\\n%s\" % self.word)\n",
    "      print(WORD)\n",
    "      print('wrong letters: %d' % (len(WORD) - matching_chars_count(self.word, WORD)))\n",
    "      if self.is_over():\n",
    "        print ('\\n%d wins!' % self.current_player)\n",
    "    def scoring(self): return 1000 if game.win() else 0\n",
    "    # def scoring(self): return len(WORD)**2 if game.win() else matching_chars_count(self.word, WORD) # For the AI\n",
    "\n",
    "# Start a match (and store the history of moves when it ends)\n",
    "ai = Negamax(4) # The AI will think 13 moves in advance\n",
    "game = Reorganize( [ Human_Player(), AI_Player(ai) ] )\n",
    "history = game.play()"
   ]
  },
  {
   "cell_type": "code",
   "execution_count": null,
   "metadata": {},
   "outputs": [],
   "source": []
  }
 ],
 "metadata": {
  "kernelspec": {
   "display_name": "Python 3.10.2 64-bit ('3.10.2')",
   "language": "python",
   "name": "python3"
  },
  "language_info": {
   "codemirror_mode": {
    "name": "ipython",
    "version": 3
   },
   "file_extension": ".py",
   "mimetype": "text/x-python",
   "name": "python",
   "nbconvert_exporter": "python",
   "pygments_lexer": "ipython3",
   "version": "3.10.2"
  },
  "orig_nbformat": 4,
  "vscode": {
   "interpreter": {
    "hash": "2ed43b33a80bd1abfa5adc7d5305df4ab21b5e0518aafbc76641cd1399e21943"
   }
  }
 },
 "nbformat": 4,
 "nbformat_minor": 2
}
